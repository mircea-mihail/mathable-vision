{
 "cells": [
  {
   "cell_type": "code",
   "execution_count": 1,
   "metadata": {},
   "outputs": [],
   "source": [
    "import numpy as np\n",
    "import os\n",
    "import cv2 as cv\n",
    "\n",
    "from constants import *\n",
    "from hsv_sliders import *\n",
    "from image_processing import *\n",
    "from visualisation import *\n",
    "from solution import *\n"
   ]
  },
  {
   "cell_type": "code",
   "execution_count": 2,
   "metadata": {},
   "outputs": [],
   "source": [
    "# get files \n",
    "\n",
    "files = os.listdir(INPUT_DIR)\n",
    "\n",
    "solutions = sorted([file for file in files if os.path.splitext(file)[1] == \".txt\"])\n",
    "photos = sorted([file for file in files if os.path.splitext(file)[1] == \".jpg\"])\n",
    "\n",
    "# print(photos)\n"
   ]
  },
  {
   "cell_type": "code",
   "execution_count": 3,
   "metadata": {},
   "outputs": [],
   "source": [
    "# show template board and all squares\n",
    "tpl = cv.imread(TEMPLATE_PATH)\n",
    "\n",
    "board = get_trimmed(tpl)\n",
    "board = process_board(board)\n",
    "\n",
    "# show_squares(board)\n"
   ]
  },
  {
   "cell_type": "code",
   "execution_count": 4,
   "metadata": {},
   "outputs": [
    {
     "name": "stdout",
     "output_type": "stream",
     "text": [
      "11G 28 \t\n"
     ]
    }
   ],
   "source": [
    "# test 2 photos\n",
    "templates = load_templates()\n",
    "\n",
    "idx = 164\n",
    "prev_board = get_board(photos[idx - 1])\n",
    "board = get_board(photos[idx])\n",
    "\n",
    "move_pos = get_board_change(prev_board, board)\n",
    "res_string = str(BOARD_Y_VALS[move_pos[Y]]) + str(BOARD_X_VALS[move_pos[X]])\n",
    "\n",
    "flt_board = process_board(board)\n",
    "current_square = process_square(get_square(flt_board, move_pos[X], move_pos[Y]))\n",
    "# plt.imshow(current_square)\n",
    "# plt.show()\n",
    "# plt.imshow(templates[28])\n",
    "# plt.show()\n",
    "# plt.imshow(templates[25])\n",
    "# plt.show()\n",
    "# print(get_similitude(current_square, templates))\n",
    "\n",
    "move_val = get_similitude(process_square(get_square(flt_board, move_pos[X], move_pos[Y])), templates)\n",
    "res_string = res_string + \" \" + str(move_val)\n",
    "\n",
    "print(res_string, \"\\t\", end = \"\\n\")\n",
    "\n"
   ]
  },
  {
   "cell_type": "code",
   "execution_count": 5,
   "metadata": {},
   "outputs": [
    {
     "name": "stdout",
     "output_type": "stream",
     "text": [
      "True\tpos: 150\t\t7I 3 \t 7I 3\n",
      "True\tpos: 151\t\t7J 6 \t 7J 6\n",
      "True\tpos: 152\t\t6H 6 \t 6H 6\n",
      "True\tpos: 153\t\t5H 8 \t 5H 8\n",
      "True\tpos: 154\t\t9G 4 \t 9G 4\n",
      "True\tpos: 155\t\t8I 1 \t 8I 1\n",
      "True\tpos: 156\t\t8J 5 \t 8J 5\n",
      "True\tpos: 157\t\t7K 9 \t 7K 9\n",
      "True\tpos: 158\t\t8K 5 \t 8K 5\n",
      "True\tpos: 159\t\t4H 48 \t 4H 48\n",
      "True\tpos: 160\t\t3H 40 \t 3H 40\n",
      "True\tpos: 161\t\t2H 8 \t 2H 8\n",
      "True\tpos: 162\t\t1H 32 \t 1H 32\n",
      "True\tpos: 163\t\t10G 7 \t 10G 7\n",
      "True\tpos: 164\t\t11G 28 \t 11G 28\n",
      "True\tpos: 165\t\t12G 21 \t 12G 21\n",
      "True\tpos: 166\t\t13G 7 \t 13G 7\n",
      "True\tpos: 167\t\t14G 3 \t 14G 3\n",
      "True\tpos: 168\t\t9H 6 \t 9H 6\n",
      "True\tpos: 169\t\t10H 24 \t 10H 24\n",
      "True\tpos: 170\t\t11H 30 \t 11H 30\n",
      "True\tpos: 171\t\t12H 54 \t 12H 54\n",
      "True\tpos: 172\t\t9K 45 \t 9K 45\n",
      "True\tpos: 173\t\t8L 25 \t 8L 25\n",
      "True\tpos: 174\t\t8M 5 \t 8M 5\n",
      "True\tpos: 175\t\t8N 5 \t 8N 5\n",
      "True\tpos: 176\t\t7L 3 \t 7L 3\n",
      "True\tpos: 177\t\t7M 12 \t 7M 12\n",
      "True\tpos: 178\t\t7N 15 \t 7N 15\n",
      "True\tpos: 179\t\t9J 1 \t 9J 1\n",
      "True\tpos: 180\t\t10J 6 \t 10J 6\n",
      "True\tpos: 181\t\t6J 11 \t 6J 11\n",
      "True\tpos: 182\t\t5J 5 \t 5J 5\n",
      "True\tpos: 183\t\t4J 16 \t 4J 16\n",
      "True\tpos: 184\t\t10F 17 \t 10F 17\n",
      "True\tpos: 185\t\t10E 10 \t 10E 10\n",
      "True\tpos: 186\t\t9F 10 \t 9F 10\n",
      "True\tpos: 187\t\t8F 7 \t 8F 7\n",
      "True\tpos: 188\t\t7F 3 \t 7F 3\n",
      "True\tpos: 189\t\t7E 4 \t 7E 4\n",
      "True\tpos: 190\t\t9E 6 \t 9E 6\n",
      "True\tpos: 191\t\t8E 60 \t 8E 60\n",
      "True\tpos: 192\t\t11E 4 \t 11E 4\n",
      "True\tpos: 193\t\t11J 7 \t 11J 7\n",
      "True\tpos: 194\t\t10D 7 \t 10D 7\n",
      "True\tpos: 195\t\t12E 14 \t 12E 14\n",
      "True\tpos: 196\t\t6F 10 \t 6F 10\n",
      "True\tpos: 197\t\t5F 13 \t 5F 13\n",
      "True\tpos: 198\t\t4F 3 \t 4F 3\n",
      "True\tpos: 199\t\t3F 10 \t 3F 10\n"
     ]
    }
   ],
   "source": [
    "prev_board = get_board(EMPTY_BOARD_PATH)\n",
    "templates = load_templates()\n",
    "\n",
    "offset = 3 * 2\n",
    "\n",
    "start_idx = 0 + int(50 * offset / 2)\n",
    "stop_idx = 50 + int(50 * offset / 2)\n",
    "\n",
    "idx = start_idx + offset\n",
    "\n",
    "for photo in photos[start_idx:stop_idx]: \n",
    "    # photo = photos[49]\n",
    "    board = get_board(photo)\n",
    "    move_pos = get_board_change(prev_board, board)\n",
    "    res_string = str(BOARD_Y_VALS[move_pos[Y]]) + str(BOARD_X_VALS[move_pos[X]])\n",
    "\n",
    "    flt_board = process_board(board)\n",
    "    move_val = get_similitude(process_square(get_square(flt_board, move_pos[X], move_pos[Y])), templates)\n",
    "    res_string = res_string + \" \" + str(move_val)\n",
    "\n",
    "    with open(os.path.join(INPUT_DIR, solutions[idx]), 'r') as file:\n",
    "        first_line = file.readline()\n",
    "    print(res_string == first_line, \"\\t\", \"pos: \", idx - offset, \"\\t\", sep = \"\", end = \"\\t\")\n",
    "    print(res_string, \"\\t\", first_line, end = \"\\n\")\n",
    "\n",
    "    prev_board = board\n",
    "    idx += 1\n",
    "\n",
    "# templates = load_templates()\n",
    "\n",
    "# show_squares(flt_board)\n",
    "# show_img(flt_board)\n",
    "\n",
    "# hsv_sliders(flt_board, RESIZE_SHOW, RESIZE_SHOW)\n"
   ]
  }
 ],
 "metadata": {
  "kernelspec": {
   "display_name": "Python 3",
   "language": "python",
   "name": "python3"
  },
  "language_info": {
   "codemirror_mode": {
    "name": "ipython",
    "version": 3
   },
   "file_extension": ".py",
   "mimetype": "text/x-python",
   "name": "python",
   "nbconvert_exporter": "python",
   "pygments_lexer": "ipython3",
   "version": "3.10.12"
  }
 },
 "nbformat": 4,
 "nbformat_minor": 2
}
