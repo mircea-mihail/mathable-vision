{
 "cells": [
  {
   "cell_type": "code",
   "execution_count": 1,
   "metadata": {},
   "outputs": [],
   "source": [
    "import numpy as np\n",
    "import os\n",
    "import cv2 as cv\n",
    "\n",
    "from constants import *\n",
    "from hsv_sliders import *\n",
    "from image_processing import *\n",
    "from visualisation import *\n",
    "from solution import *\n"
   ]
  },
  {
   "cell_type": "code",
   "execution_count": 2,
   "metadata": {},
   "outputs": [],
   "source": [
    "#################### IN ORDER TO GET THE PROJECT WORKING ####################\n",
    "#                                                                           #\n",
    "# set the INPUT_DIR from constants.py to the path of the test files         #\n",
    "# use relative paths to the current file's directory (src)                  #\n",
    "#                                                                           #\n",
    "#############################################################################"
   ]
  },
  {
   "cell_type": "code",
   "execution_count": 3,
   "metadata": {},
   "outputs": [],
   "source": [
    "# get files \n",
    "\n",
    "files = os.listdir(INPUT_DIR)\n",
    "files = os.listdir(INPUT_DIR)\n",
    "\n",
    "solutions = sorted([file for file in files if os.path.splitext(file)[1] == \".txt\"])\n",
    "photos = sorted([file for file in files if os.path.splitext(file)[1] == \".jpg\"])\n",
    "turns_files = sorted([file for file in files if file.split(\"_\")[1] == \"turns.txt\"])\n",
    "\n",
    "# print(photos)"
   ]
  },
  {
   "cell_type": "code",
   "execution_count": 4,
   "metadata": {},
   "outputs": [],
   "source": [
    "# show template board and all squares\n",
    "tpl = cv.imread(TEMPLATE_PATH)\n",
    "\n",
    "board = get_trimmed(tpl)\n",
    "board = process_board(board)\n",
    "\n",
    "# show_squares(board)\n"
   ]
  },
  {
   "cell_type": "code",
   "execution_count": 5,
   "metadata": {},
   "outputs": [
    {
     "name": "stdout",
     "output_type": "stream",
     "text": [
      "1_turns.txt\n",
      "moves:\n",
      "3 ,  7 ,  19 ,  35 ,  39 ,  99 ,  \n",
      "3 ,  9 ,  18 ,  33 ,  57 ,  84 ,  \n",
      "4 ,  8 ,  \n",
      "6 ,  12 ,  19 ,  39 ,  52 ,  \n",
      "8 ,  50 ,  \n",
      "7 ,  11 ,  31 ,  51 ,  71 ,  \n",
      "7 ,  29 ,  37 ,  40 ,  44 ,  \n",
      "48 ,  55 ,  58 ,  64 ,  81 ,  \n",
      "28 ,  31 ,  34 ,  44 ,  48 ,  \n",
      "10 ,  80 ,  87 ,  \n",
      "7 ,  10 ,  \n",
      "20 ,  50 ,  \n",
      "7 ,  35 ,  \n",
      "scores:\n",
      "[99, 84, 8, 52, 50, 71, 44, 81, 48, 87, 10, 50, 35]\n",
      "\n",
      "\n"
     ]
    }
   ],
   "source": [
    "# generate final solution \n",
    "generate_solution()\n"
   ]
  }
 ],
 "metadata": {
  "kernelspec": {
   "display_name": "Python 3",
   "language": "python",
   "name": "python3"
  },
  "language_info": {
   "codemirror_mode": {
    "name": "ipython",
    "version": 3
   },
   "file_extension": ".py",
   "mimetype": "text/x-python",
   "name": "python",
   "nbconvert_exporter": "python",
   "pygments_lexer": "ipython3",
   "version": "3.10.12"
  }
 },
 "nbformat": 4,
 "nbformat_minor": 2
}
